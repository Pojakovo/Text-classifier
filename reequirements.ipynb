{
 "cells": [
  {
   "cell_type": "code",
   "execution_count": null,
   "id": "f6b94d87",
   "metadata": {},
   "outputs": [],
   "source": [
    "Requirements\n",
    "\n",
    "python==3.9.5\n",
    "If you prefer using Jupyter Notebook, make sure it is installed in your environment before proceeding.\n",
    "jupyter==1.0.0\n",
    "pip install jupyter or \n",
    "conda install -c conda-forge jupyter\n",
    "tensorflow==2.5.0\n",
    "numpy==1.19.5\n",
    "pandas==1.3.0\n",
    "scikit-learn==0.24.2\n",
    "nltk==3.6.2\n",
    "\n",
    "Required libraries\n",
    "\n",
    "Matplobib\n",
    "pickle\n",
    "wordcloud\n",
    "demoji\n",
    "Re\n",
    "string"
   ]
  }
 ],
 "metadata": {
  "kernelspec": {
   "display_name": "Python 3 (ipykernel)",
   "language": "python",
   "name": "python3"
  },
  "language_info": {
   "codemirror_mode": {
    "name": "ipython",
    "version": 3
   },
   "file_extension": ".py",
   "mimetype": "text/x-python",
   "name": "python",
   "nbconvert_exporter": "python",
   "pygments_lexer": "ipython3",
   "version": "3.9.16"
  }
 },
 "nbformat": 4,
 "nbformat_minor": 5
}
