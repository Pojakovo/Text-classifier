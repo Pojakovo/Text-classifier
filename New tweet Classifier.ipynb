{
 "cells": [
  {
   "cell_type": "code",
   "execution_count": null,
   "id": "27a4e6c5",
   "metadata": {},
   "outputs": [],
   "source": [
    "# Tweet Classifier\n",
    "\n",
    "# load and import the necessary libraries\n",
    "\n",
    "# load in the train saved model\n",
    "# make sure to replace path to the actual path of the save model\n",
    "\n",
    "with open('path/to/saved_model.pkl', 'rb') as file:\n",
    "    model = pickle.load(file)\n",
    "    \n",
    "# Load and preprocess your new twitter data\n",
    "data = pd.read_json('path/to/your_data.json')\n",
    "preprocessed_data = preprocess_data(data) # such as tokenization, lowercasing, stopwrords...\n",
    "\n",
    "# Initialize the Bag-of-Words vectorizer\n",
    "cnt_vec = CountVectorizer()\n",
    "\n",
    "# Transform the preprocessed data into feature vectors\n",
    "new_tweet = cnt_vec.transform(preprocessed_data['text'])\n",
    "\n",
    "\n",
    "predictions = classifier.predict(X_new)\n",
    "\n",
    "\n",
    "# classify new tweets\n",
    "new_tweets = ['Tweet 1', 'Tweet 2', 'Tweet 3']\n",
    "prediction = model.predict(new_tweets)\n",
    "\n",
    "# Print the predictions\n",
    "for tweet, prediction in zip(new_tweets, predictions):\n",
    "    print(f'Tweet: {tweet}')\n",
    "    print(f'Predicted Category: {prediction}')\n",
    "    print('---')\n"
   ]
  }
 ],
 "metadata": {
  "kernelspec": {
   "display_name": "Python 3 (ipykernel)",
   "language": "python",
   "name": "python3"
  },
  "language_info": {
   "codemirror_mode": {
    "name": "ipython",
    "version": 3
   },
   "file_extension": ".py",
   "mimetype": "text/x-python",
   "name": "python",
   "nbconvert_exporter": "python",
   "pygments_lexer": "ipython3",
   "version": "3.9.16"
  }
 },
 "nbformat": 4,
 "nbformat_minor": 5
}
